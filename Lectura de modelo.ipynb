{
 "cells": [
  {
   "cell_type": "code",
   "execution_count": 1,
   "id": "d0d6dcc2-2388-43b1-ab64-fc9da272e9b1",
   "metadata": {},
   "outputs": [],
   "source": [
    "from tensorflow.keras.models import load_model\n",
    "import numpy as np\n",
    "import pandas as pd\n",
    "import tensorflow as tf\n",
    "from tensorflow import keras\n",
    "from tensorflow.keras import layers"
   ]
  },
  {
   "cell_type": "code",
   "execution_count": 2,
   "id": "6635d9a8-cfc0-417c-8d47-27b9b9571355",
   "metadata": {},
   "outputs": [
    {
     "name": "stdout",
     "output_type": "stream",
     "text": [
      "WARNING:tensorflow:From C:\\Users\\taoiz\\Desktop\\Proyecto 4\\p4\\Lib\\site-packages\\keras\\src\\backend\\tensorflow\\core.py:204: The name tf.placeholder is deprecated. Please use tf.compat.v1.placeholder instead.\n",
      "\n"
     ]
    }
   ],
   "source": [
    "# Importar o definir la clase RecommenderNet\n",
    "class RecommenderNet(keras.Model):\n",
    "    def __init__(self, num_users, num_movies, embedding_size=50, **kwargs):\n",
    "        super(RecommenderNet, self).__init__(**kwargs)\n",
    "        self.num_users = num_users\n",
    "        self.num_movies = num_movies\n",
    "        self.embedding_size = embedding_size\n",
    "\n",
    "        self.user_embedding = layers.Embedding(\n",
    "            num_users,\n",
    "            embedding_size,\n",
    "            embeddings_initializer=\"he_normal\",\n",
    "            embeddings_regularizer=keras.regularizers.l2(1e-6),\n",
    "        )\n",
    "        self.user_bias = layers.Embedding(num_users, 1)\n",
    "        self.movie_embedding = layers.Embedding(\n",
    "            num_movies,\n",
    "            embedding_size,\n",
    "            embeddings_initializer=\"he_normal\",\n",
    "            embeddings_regularizer=keras.regularizers.l2(1e-6),\n",
    "        )\n",
    "        self.movie_bias = layers.Embedding(num_movies, 1)\n",
    "\n",
    "    def call(self, inputs):\n",
    "        user_vector = self.user_embedding(inputs[:, 0])\n",
    "        user_bias = self.user_bias(inputs[:, 0])\n",
    "        movie_vector = self.movie_embedding(inputs[:, 1])\n",
    "        movie_bias = self.movie_bias(inputs[:, 1])\n",
    "        dot_user_movie = tf.tensordot(user_vector, movie_vector, 2)\n",
    "        x = dot_user_movie + user_bias + movie_bias\n",
    "        return tf.nn.sigmoid(x)\n",
    "\n",
    "# Cargar el modelo desde el archivo .keras\n",
    "model = load_model(\"recommender_model.keras\", custom_objects={\"RecommenderNet\": RecommenderNet})"
   ]
  },
  {
   "cell_type": "code",
   "execution_count": 3,
   "id": "a729016a-535c-4a2d-ad7a-73ce1432ad40",
   "metadata": {},
   "outputs": [
    {
     "name": "stdin",
     "output_type": "stream",
     "text": [
      "Ingrese el numero de usuario para poder dar nuestras 10 recomendaciones:  1\n"
     ]
    }
   ],
   "source": [
    "# Reutilizar un ID de usuario existente dentro del rango original (0 a 942)\n",
    "nuevo_usuario_id = int(input(\"Ingrese el numero de usuario para poder dar nuestras 10 recomendaciones: \"))"
   ]
  },
  {
   "cell_type": "code",
   "execution_count": 4,
   "id": "48682a87-3504-4668-855b-253aa78ccc7b",
   "metadata": {},
   "outputs": [
    {
     "name": "stdout",
     "output_type": "stream",
     "text": [
      "\u001b[1m53/53\u001b[0m \u001b[32m━━━━━━━━━━━━━━━━━━━━\u001b[0m\u001b[37m\u001b[0m \u001b[1m0s\u001b[0m 2ms/step\n",
      "Top 10 recomendaciones para el nuevo usuario:\n",
      "                                      title  prediccion\n",
      "30                      Crimson Tide (1995)    0.782455\n",
      "35                          Mad Love (1995)    0.776632\n",
      "129                      Kansas City (1996)    0.774743\n",
      "296                      Ulee's Gold (1997)    0.767442\n",
      "4                            Copycat (1995)    0.761694\n",
      "356  One Flew Over the Cuckoo's Nest (1975)    0.759506\n",
      "173          Raiders of the Lost Ark (1981)    0.759015\n",
      "199                     Shining, The (1980)    0.755017\n",
      "0                          Toy Story (1995)    0.754030\n",
      "57                         Quiz Show (1994)    0.746714\n"
     ]
    }
   ],
   "source": [
    "# Importar los datos de las películas\n",
    "movies = pd.read_csv(\"moviescl.csv\")\n",
    "\n",
    "# Definir el número total de películas basándote en el DataFrame\n",
    "num_movies = movies['movie_id'].nunique()\n",
    "\n",
    "# Simulación de preferencias del usuario, al ser minimas a comparacion de las del entreanimeto no afectara\n",
    "peliculas_vistas = [1, 50, 100]  # Películas que el usuario ha visto y le han gustado (IDs de ejemplo)\n",
    "calificaciones = [5, 4, 5]  # Calificaciones para las películas vistas\n",
    "\n",
    "# Crear el dataset del nuevo usuario\n",
    "nuevo_usuario_data = pd.DataFrame({\n",
    "    'user_id': [nuevo_usuario_id] * len(peliculas_vistas),\n",
    "    'movie_id': peliculas_vistas,\n",
    "    'rating': calificaciones\n",
    "})\n",
    "\n",
    "# Realizar predicciones para todas las películas\n",
    "peliculas_disponibles = np.array(range(num_movies))\n",
    "usuario_input = np.array([nuevo_usuario_id] * len(peliculas_disponibles))\n",
    "\n",
    "# Combinar usuario y película en una matriz con dos columnas\n",
    "entrada_modelo = np.vstack((usuario_input, peliculas_disponibles)).T\n",
    "\n",
    "# Predecir la afinidad del usuario por todas las películas\n",
    "predicciones = model.predict(entrada_modelo)\n",
    "nuevo_usuario_recomendaciones = pd.DataFrame({\n",
    "    'movie_id': peliculas_disponibles,\n",
    "    'prediccion': predicciones.flatten()\n",
    "})\n",
    "\n",
    "# Hacer un merge con el DataFrame de películas para obtener el título de cada película recomendada\n",
    "top_recomendaciones = nuevo_usuario_recomendaciones.merge(movies, on='movie_id')\n",
    "top_recomendaciones = top_recomendaciones.sort_values(by='prediccion', ascending=False).head(10)\n",
    "\n",
    "# Mostrar las recomendaciones\n",
    "print(\"Top 10 recomendaciones para el nuevo usuario:\")\n",
    "print(top_recomendaciones[['title', 'prediccion']])"
   ]
  }
 ],
 "metadata": {
  "kernelspec": {
   "display_name": "Python (p4)",
   "language": "python",
   "name": "p4"
  },
  "language_info": {
   "codemirror_mode": {
    "name": "ipython",
    "version": 3
   },
   "file_extension": ".py",
   "mimetype": "text/x-python",
   "name": "python",
   "nbconvert_exporter": "python",
   "pygments_lexer": "ipython3",
   "version": "3.11.4"
  }
 },
 "nbformat": 4,
 "nbformat_minor": 5
}
